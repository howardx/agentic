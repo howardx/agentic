{
  "nbformat": 4,
  "nbformat_minor": 0,
  "metadata": {
    "colab": {
      "provenance": [],
      "authorship_tag": "ABX9TyOVgoI3frAjmtnTZzal2HSR",
      "include_colab_link": true
    },
    "kernelspec": {
      "name": "python3",
      "display_name": "Python 3"
    },
    "language_info": {
      "name": "python"
    }
  },
  "cells": [
    {
      "cell_type": "markdown",
      "metadata": {
        "id": "view-in-github",
        "colab_type": "text"
      },
      "source": [
        "<a href=\"https://colab.research.google.com/github/howardx/agentic/blob/main/Untitled0.ipynb\" target=\"_parent\"><img src=\"https://colab.research.google.com/assets/colab-badge.svg\" alt=\"Open In Colab\"/></a>"
      ]
    },
    {
      "cell_type": "code",
      "source": [
        "!pip install --quiet -U langgraph langchain_openai langchain_core\n"
      ],
      "metadata": {
        "colab": {
          "base_uri": "https://localhost:8080/"
        },
        "id": "_hjopmQF8mba",
        "outputId": "7e120c29-e585-4b22-ab6e-3ae649f9cd4c"
      },
      "execution_count": 4,
      "outputs": [
        {
          "output_type": "stream",
          "name": "stdout",
          "text": [
            "\u001b[2K     \u001b[90m━━━━━━━━━━━━━━━━━━━━━━━━━━━━━━━━━━━━━━━━\u001b[0m \u001b[32m43.7/43.7 kB\u001b[0m \u001b[31m1.7 MB/s\u001b[0m eta \u001b[36m0:00:00\u001b[0m\n",
            "\u001b[2K   \u001b[90m━━━━━━━━━━━━━━━━━━━━━━━━━━━━━━━━━━━━━━━━\u001b[0m \u001b[32m152.4/152.4 kB\u001b[0m \u001b[31m5.1 MB/s\u001b[0m eta \u001b[36m0:00:00\u001b[0m\n",
            "\u001b[2K   \u001b[90m━━━━━━━━━━━━━━━━━━━━━━━━━━━━━━━━━━━━━━━━\u001b[0m \u001b[32m65.3/65.3 kB\u001b[0m \u001b[31m3.9 MB/s\u001b[0m eta \u001b[36m0:00:00\u001b[0m\n",
            "\u001b[2K   \u001b[90m━━━━━━━━━━━━━━━━━━━━━━━━━━━━━━━━━━━━━━━━\u001b[0m \u001b[32m438.1/438.1 kB\u001b[0m \u001b[31m14.2 MB/s\u001b[0m eta \u001b[36m0:00:00\u001b[0m\n",
            "\u001b[2K   \u001b[90m━━━━━━━━━━━━━━━━━━━━━━━━━━━━━━━━━━━━━━━━\u001b[0m \u001b[32m44.2/44.2 kB\u001b[0m \u001b[31m2.8 MB/s\u001b[0m eta \u001b[36m0:00:00\u001b[0m\n",
            "\u001b[2K   \u001b[90m━━━━━━━━━━━━━━━━━━━━━━━━━━━━━━━━━━━━━━━━\u001b[0m \u001b[32m50.0/50.0 kB\u001b[0m \u001b[31m3.1 MB/s\u001b[0m eta \u001b[36m0:00:00\u001b[0m\n",
            "\u001b[2K   \u001b[90m━━━━━━━━━━━━━━━━━━━━━━━━━━━━━━━━━━━━━━━━\u001b[0m \u001b[32m363.0/363.0 kB\u001b[0m \u001b[31m21.4 MB/s\u001b[0m eta \u001b[36m0:00:00\u001b[0m\n",
            "\u001b[2K   \u001b[90m━━━━━━━━━━━━━━━━━━━━━━━━━━━━━━━━━━━━━━━━\u001b[0m \u001b[32m216.5/216.5 kB\u001b[0m \u001b[31m14.8 MB/s\u001b[0m eta \u001b[36m0:00:00\u001b[0m\n",
            "\u001b[?25h"
          ]
        }
      ]
    },
    {
      "cell_type": "code",
      "source": [
        "import os, getpass\n",
        "def _set_env(var: str):\n",
        "    if not os.environ.get(var):\n",
        "        os.environ[var] = getpass.getpass(f\"{var}: \")"
      ],
      "metadata": {
        "id": "cnolMHe--BSF"
      },
      "execution_count": 1,
      "outputs": []
    },
    {
      "cell_type": "code",
      "source": [
        "_set_env(\"OPENAI_API_KEY\")"
      ],
      "metadata": {
        "colab": {
          "base_uri": "https://localhost:8080/"
        },
        "id": "_B-Wpq5GpBbO",
        "outputId": "73f64aca-a3ed-4def-8d3f-39f21452d425"
      },
      "execution_count": 2,
      "outputs": [
        {
          "name": "stdout",
          "output_type": "stream",
          "text": [
            "OPENAI_API_KEY: ··········\n"
          ]
        }
      ]
    },
    {
      "cell_type": "code",
      "source": [
        "from langchain_openai import ChatOpenAI\n",
        "llm = ChatOpenAI(model='gpt-4o')"
      ],
      "metadata": {
        "id": "_okK5SsfpPZz"
      },
      "execution_count": 5,
      "outputs": []
    },
    {
      "cell_type": "code",
      "source": [
        "# define llm Node\n",
        "def call_llm(message):\n",
        "    return llm.invoke(message)"
      ],
      "metadata": {
        "id": "i5W_C8c_pelw"
      },
      "execution_count": 6,
      "outputs": []
    },
    {
      "cell_type": "code",
      "source": [
        "from langgraph.graph import Graph, START, END\n",
        "\n",
        "# Create a new Graph\n",
        "workflow = Graph()\n",
        "# Add the nodes\n",
        "workflow.add_node(\"call_llm\", call_llm)\n",
        "\n",
        "# Add the Edges\n",
        "workflow.add_edge(START, \"call_llm\")\n",
        "workflow.add_edge(\"call_llm\", END)\n",
        "\n",
        "#Compile the workflow\n",
        "app = workflow.compile()"
      ],
      "metadata": {
        "id": "cqj5YReIpjgn"
      },
      "execution_count": 7,
      "outputs": []
    },
    {
      "cell_type": "code",
      "source": [
        "# Visualize your graph\n",
        "from IPython.display import Image, display\n",
        "display(Image(app.get_graph().draw_mermaid_png()))"
      ],
      "metadata": {
        "colab": {
          "base_uri": "https://localhost:8080/",
          "height": 251
        },
        "id": "xk9uaFLrpphW",
        "outputId": "0312481c-0419-40ef-a7dd-16fb39e8ca74"
      },
      "execution_count": 8,
      "outputs": [
        {
          "output_type": "display_data",
          "data": {
            "image/png": "[encoded data removed]",
            "text/plain": [
              "<IPython.core.display.Image object>"
            ]
          },
          "metadata": {}
        }
      ]
    },
    {
      "cell_type": "code",
      "source": [
        "response = app.invoke(\n",
        "    \"List specific economy-class flight options for **one adult** traveling from **San Francisco International Airport (SFO)** to **São Paulo Guarulhos International Airport (GRU)**. \\\n",
        "I prefer flights with **zero or one connection** only. \\\n",
        "Please include the **airline**, **departure and arrival times**, **number of stops**, and **total travel duration**. \\\n",
        "Use a **travel date of June 25, 2025** (or the nearest date with available flights). \\\n",
        "Only show results with minimal layovers and exclude multi-stop flights with long delays.\"\n",
        ")\n",
        "print(response.content)"
      ],
      "metadata": {
        "colab": {
          "base_uri": "https://localhost:8080/"
        },
        "id": "cTggVZBtputg",
        "outputId": "81243365-148d-4d92-df38-c08450a76ac9"
      },
      "execution_count": 11,
      "outputs": [
        {
          "output_type": "stream",
          "name": "stdout",
          "text": [
            "To provide you with the most accurate and updated information for flights from San Francisco International Airport (SFO) to São Paulo Guarulhos International Airport (GRU) for June 25, 2025, I would recommend checking a major flight booking website or airline directly as they have real-time data. However, I can give you a general idea of what to expect based on typical routes:\n",
            "\n",
            "### Direct Flights (Non-stop)\n",
            "Currently, there are usually no non-stop flights between SFO and GRU, so you will likely have to book a flight with one connection.\n",
            "\n",
            "### One-Stop Flights\n",
            "Here are some typical options you might consider, assuming similar schedules and routes as 2023:\n",
            "\n",
            "1. **United Airlines**\n",
            "   - **Stopover**: Houston (IAH)\n",
            "   - **Departure from SFO**: Typically around late morning or early afternoon\n",
            "   - **Arrival at GRU**: Early to mid-morning the next day\n",
            "   - **Total Duration**: Approximately 15–18 hours, including layover\n",
            "   - **Layover Duration**: Generally 2-3 hours\n",
            "\n",
            "2. **American Airlines**\n",
            "   - **Stopover**: Dallas/Fort Worth (DFW) or Miami (MIA)\n",
            "   - **Departure from SFO**: Late morning or afternoon\n",
            "   - **Arrival at GRU**: Early to mid-morning the next day\n",
            "   - **Total Duration**: Approximately 15–19 hours, including layover\n",
            "   - **Layover Duration**: Usually 2-4 hours\n",
            "\n",
            "3. **LATAM Airlines**\n",
            "   - **Stopover**: Santiago (SCL)\n",
            "   - **Departure from SFO**: Evening\n",
            "   - **Arrival at GRU**: Afternoon the next day\n",
            "   - **Total Duration**: Approximately 20-22 hours, including layover\n",
            "   - **Layover Duration**: Usually 3-4 hours\n",
            "\n",
            "### Note:\n",
            "- Flight schedules and availability can vary widely, and newer routing options might be available closer to your travel date.\n",
            "- Always double-check the airlines' websites or a flight aggregator for the most current and exact schedules and fare deals.\n",
            "- Airlines might update their schedules, or new routes might become available, so it's always beneficial to confirm closer to your intended booking date.\n",
            "\n",
            "For the most precise information, always consult directly with airline websites or trusted travel booking platforms closer to your desired travel dates.\n"
          ]
        }
      ]
    }
  ]
}