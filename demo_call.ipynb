{
  "nbformat": 4,
  "nbformat_minor": 0,
  "metadata": {
    "colab": {
      "provenance": [],
      "authorship_tag": "ABX9TyNbDEfLaVhrj0Ogae356Qkh",
      "include_colab_link": true
    },
    "kernelspec": {
      "name": "python3",
      "display_name": "Python 3"
    },
    "language_info": {
      "name": "python"
    }
  },
  "cells": [
    {
      "cell_type": "markdown",
      "metadata": {
        "id": "view-in-github",
        "colab_type": "text"
      },
      "source": [
        "<a href=\"https://colab.research.google.com/github/howardx/agentic/blob/main/demo_call.ipynb\" target=\"_parent\"><img src=\"https://colab.research.google.com/assets/colab-badge.svg\" alt=\"Open In Colab\"/></a>"
      ]
    },
    {
      "cell_type": "markdown",
      "source": [
        "## Install Dependencies"
      ],
      "metadata": {
        "id": "AQ6XjaW9sEFi"
      }
    },
    {
      "cell_type": "code",
      "source": [
        "!pip install --quiet -U langgraph langchain_openai langchain_core serpapi google-search-results"
      ],
      "metadata": {
        "id": "_hjopmQF8mba",
        "outputId": "efbb0df6-242c-4f6e-81bf-840a2374b7a4",
        "colab": {
          "base_uri": "https://localhost:8080/"
        }
      },
      "execution_count": 1,
      "outputs": [
        {
          "output_type": "stream",
          "name": "stdout",
          "text": [
            "  Preparing metadata (setup.py) ... \u001b[?25l\u001b[?25hdone\n",
            "\u001b[2K     \u001b[90m━━━━━━━━━━━━━━━━━━━━━━━━━━━━━━━━━━━━━━━\u001b[0m \u001b[32m43.7/43.7 kB\u001b[0m \u001b[31m875.5 kB/s\u001b[0m eta \u001b[36m0:00:00\u001b[0m\n",
            "\u001b[2K   \u001b[90m━━━━━━━━━━━━━━━━━━━━━━━━━━━━━━━━━━━━━━━━\u001b[0m \u001b[32m152.4/152.4 kB\u001b[0m \u001b[31m5.7 MB/s\u001b[0m eta \u001b[36m0:00:00\u001b[0m\n",
            "\u001b[2K   \u001b[90m━━━━━━━━━━━━━━━━━━━━━━━━━━━━━━━━━━━━━━━━\u001b[0m \u001b[32m65.4/65.4 kB\u001b[0m \u001b[31m2.6 MB/s\u001b[0m eta \u001b[36m0:00:00\u001b[0m\n",
            "\u001b[2K   \u001b[90m━━━━━━━━━━━━━━━━━━━━━━━━━━━━━━━━━━━━━━━━\u001b[0m \u001b[32m438.1/438.1 kB\u001b[0m \u001b[31m12.5 MB/s\u001b[0m eta \u001b[36m0:00:00\u001b[0m\n",
            "\u001b[2K   \u001b[90m━━━━━━━━━━━━━━━━━━━━━━━━━━━━━━━━━━━━━━━━\u001b[0m \u001b[32m44.2/44.2 kB\u001b[0m \u001b[31m2.7 MB/s\u001b[0m eta \u001b[36m0:00:00\u001b[0m\n",
            "\u001b[2K   \u001b[90m━━━━━━━━━━━━━━━━━━━━━━━━━━━━━━━━━━━━━━━━\u001b[0m \u001b[32m50.0/50.0 kB\u001b[0m \u001b[31m1.6 MB/s\u001b[0m eta \u001b[36m0:00:00\u001b[0m\n",
            "\u001b[2K   \u001b[90m━━━━━━━━━━━━━━━━━━━━━━━━━━━━━━━━━━━━━━━━\u001b[0m \u001b[32m363.0/363.0 kB\u001b[0m \u001b[31m7.2 MB/s\u001b[0m eta \u001b[36m0:00:00\u001b[0m\n",
            "\u001b[2K   \u001b[90m━━━━━━━━━━━━━━━━━━━━━━━━━━━━━━━━━━━━━━━━\u001b[0m \u001b[32m216.5/216.5 kB\u001b[0m \u001b[31m10.1 MB/s\u001b[0m eta \u001b[36m0:00:00\u001b[0m\n",
            "\u001b[?25h  Building wheel for google-search-results (setup.py) ... \u001b[?25l\u001b[?25hdone\n"
          ]
        }
      ]
    },
    {
      "cell_type": "markdown",
      "source": [
        "## Environment Variable Setup -- API Keys"
      ],
      "metadata": {
        "id": "uk2w-gucsK-G"
      }
    },
    {
      "cell_type": "code",
      "source": [
        "import os, getpass\n",
        "def _set_env(var: str):\n",
        "    if not os.environ.get(var):\n",
        "        os.environ[var] = getpass.getpass(f\"{var}: \")\n",
        "\n",
        "_set_env(\"OPENAI_API_KEY\")\n",
        "_set_env(\"SERP_API_KEY\")"
      ],
      "metadata": {
        "colab": {
          "base_uri": "https://localhost:8080/"
        },
        "id": "9dY39vgMOjq1",
        "outputId": "13b25a03-a951-43a6-a34d-c798dc43af6a"
      },
      "execution_count": 2,
      "outputs": [
        {
          "name": "stdout",
          "output_type": "stream",
          "text": [
            "OPENAI_API_KEY: ··········\n",
            "SERP_API_KEY: ··········\n"
          ]
        }
      ]
    },
    {
      "cell_type": "markdown",
      "source": [
        "## Let's Create Tools For Our LLM Assistant"
      ],
      "metadata": {
        "id": "0CIMFUQZsP2S"
      }
    },
    {
      "cell_type": "code",
      "source": [
        "import os\n",
        "from serpapi.google_search import GoogleSearch\n",
        "from typing import List, Dict\n",
        "\n",
        "def get_airfare_details(\n",
        "    departure_airport: str,\n",
        "    destination_airport: str,\n",
        "    departure_date: str,\n",
        "    return_date: str\n",
        ") -> List[Dict]:\n",
        "    \"\"\"\n",
        "    Fetch round-trip airfare details between two airports using SerpAPI's Google Flights engine.\n",
        "\n",
        "    Args:\n",
        "        departure_airport (str): IATA airport code of the departure location (e.g., \"CDG\").\n",
        "        destination_airport (str): IATA airport code of the destination (e.g., \"SFO\").\n",
        "        departure_date (str): Outbound flight date in format YYYY-MM-DD.\n",
        "        return_date (str): Return flight date in format YYYY-MM-DD.\n",
        "\n",
        "    Returns:\n",
        "        List[Dict]: A list of flights (both outbound and return), where each flight dict includes:\n",
        "            - flight_number (str)\n",
        "            - airline (str)\n",
        "            - departure_time (str)\n",
        "            - arrival_time (str)\n",
        "            - departure_airport (str)\n",
        "            - arrival_airport (str)\n",
        "            - price (float)\n",
        "            - departure_token (str)\n",
        "    \"\"\"\n",
        "    def extract_flight_segments(flight_data: Dict, price: float, token: str) -> List[Dict]:\n",
        "        return [\n",
        "            {\n",
        "                \"flight_number\": seg.get(\"flight_number\"),\n",
        "                \"airline\": seg.get(\"airline\"),\n",
        "                \"departure_time\": seg[\"departure_airport\"].get(\"time\"),\n",
        "                \"arrival_time\": seg[\"arrival_airport\"].get(\"time\"),\n",
        "                \"departure_airport\": seg[\"departure_airport\"].get(\"id\"),\n",
        "                \"arrival_airport\": seg[\"arrival_airport\"].get(\"id\"),\n",
        "                \"price\": price,\n",
        "                \"departure_token\": token\n",
        "            }\n",
        "            for seg in flight_data.get(\"flights\", [])\n",
        "        ]\n",
        "\n",
        "    # First search: outbound\n",
        "    params = {\n",
        "        \"engine\": \"google_flights\",\n",
        "        \"hl\": \"en\",\n",
        "        \"gl\": \"us\",\n",
        "        \"departure_id\": departure_airport,\n",
        "        \"arrival_id\": destination_airport,\n",
        "        \"outbound_date\": departure_date,\n",
        "        \"return_date\": return_date,\n",
        "        \"currency\": \"USD\",\n",
        "        \"api_key\": os.environ.get(\"SERP_API_KEY\")\n",
        "    }\n",
        "\n",
        "    search = GoogleSearch(params)\n",
        "    results = search.get_dict()\n",
        "\n",
        "    best_flight = results.get(\"best_flights\", [])[0] if results.get(\"best_flights\") else None\n",
        "    if not best_flight:\n",
        "        return []\n",
        "\n",
        "    outbound_segments = extract_flight_segments(\n",
        "        best_flight,\n",
        "        best_flight.get(\"price\"),\n",
        "        best_flight.get(\"departure_token\")\n",
        "    )\n",
        "\n",
        "    # Second search: return\n",
        "    params[\"departure_token\"] = best_flight.get(\"departure_token\")\n",
        "    return_search = GoogleSearch(params)\n",
        "    return_results = return_search.get_dict()\n",
        "\n",
        "    return_flight = return_results.get(\"other_flights\", [])[0] if return_results.get(\"other_flights\") else None\n",
        "    if not return_flight:\n",
        "        print(return_results)\n",
        "        return outbound_segments\n",
        "\n",
        "    return_segments = extract_flight_segments(\n",
        "        return_flight,\n",
        "        best_flight.get(\"price\"),\n",
        "        best_flight.get(\"departure_token\")\n",
        "    )\n",
        "\n",
        "    return outbound_segments + return_segments"
      ],
      "metadata": {
        "id": "3Xx-t4pBOyi4"
      },
      "execution_count": 3,
      "outputs": []
    },
    {
      "cell_type": "code",
      "source": [
        "get_airfare_details(\"SFO\", \"JFK\", \"2025-07-01\", \"2025-07-07\")"
      ],
      "metadata": {
        "colab": {
          "base_uri": "https://localhost:8080/"
        },
        "id": "2pAe4bHd8HTq",
        "outputId": "1040ef7e-8b67-4895-c119-9ac48a9abd93"
      },
      "execution_count": 12,
      "outputs": [
        {
          "output_type": "execute_result",
          "data": {
            "text/plain": [
              "[{'flight_number': 'AA 166',\n",
              "  'airline': 'American',\n",
              "  'departure_time': '2025-07-01 13:17',\n",
              "  'arrival_time': '2025-07-01 22:00',\n",
              "  'departure_airport': 'SFO',\n",
              "  'arrival_airport': 'JFK',\n",
              "  'price': 501,\n",
              "  'departure_token': 'WyJDalJJVkZGQk5rbzFhRU5aTVRCQlNtZHNMWGRDUnkwdExTMHRMUzB0YjNsamFYQXhNMEZCUVVGQlIyaFBVVFF3VGtaclVEUkJFZ1ZCUVRFMk5ob0xDS1NIQXhBQ0dnTlZVMFE0SEhDa2h3TT0iLFtbIlNGTyIsIjIwMjUtMDctMDEiLCJKRksiLG51bGwsIkFBIiwiMTY2Il1dXQ=='},\n",
              " {'flight_number': 'AA 1',\n",
              "  'airline': 'American',\n",
              "  'departure_time': '2025-07-07 07:20',\n",
              "  'arrival_time': '2025-07-07 10:22',\n",
              "  'departure_airport': 'JFK',\n",
              "  'arrival_airport': 'LAX',\n",
              "  'price': 501,\n",
              "  'departure_token': 'WyJDalJJVkZGQk5rbzFhRU5aTVRCQlNtZHNMWGRDUnkwdExTMHRMUzB0YjNsamFYQXhNMEZCUVVGQlIyaFBVVFF3VGtaclVEUkJFZ1ZCUVRFMk5ob0xDS1NIQXhBQ0dnTlZVMFE0SEhDa2h3TT0iLFtbIlNGTyIsIjIwMjUtMDctMDEiLCJKRksiLG51bGwsIkFBIiwiMTY2Il1dXQ=='},\n",
              " {'flight_number': 'AA 4893',\n",
              "  'airline': 'American',\n",
              "  'departure_time': '2025-07-07 14:25',\n",
              "  'arrival_time': '2025-07-07 15:49',\n",
              "  'departure_airport': 'LAX',\n",
              "  'arrival_airport': 'SFO',\n",
              "  'price': 501,\n",
              "  'departure_token': 'WyJDalJJVkZGQk5rbzFhRU5aTVRCQlNtZHNMWGRDUnkwdExTMHRMUzB0YjNsamFYQXhNMEZCUVVGQlIyaFBVVFF3VGtaclVEUkJFZ1ZCUVRFMk5ob0xDS1NIQXhBQ0dnTlZVMFE0SEhDa2h3TT0iLFtbIlNGTyIsIjIwMjUtMDctMDEiLCJKRksiLG51bGwsIkFBIiwiMTY2Il1dXQ=='}]"
            ]
          },
          "metadata": {},
          "execution_count": 12
        }
      ]
    },
    {
      "cell_type": "code",
      "source": [
        "def city_to_iata(city_name: str) -> str:\n",
        "    \"\"\"\n",
        "    Converts a popular city name to its nearest major airport's IATA (International Air Transport Association) code.\n",
        "\n",
        "    Args:\n",
        "        city_name (str): Common name of a city (e.g., \"New York\", \"Paris\").\n",
        "\n",
        "    Returns:\n",
        "        str: The IATA airport code (e.g., \"JFK\", \"CDG\") or \"Unknown\" if not found.\n",
        "    \"\"\"\n",
        "    city_iata_map = {\n",
        "        \"new york\": \"JFK\",\n",
        "        \"los angeles\": \"LAX\",\n",
        "        \"san francisco\": \"SFO\",\n",
        "        \"chicago\": \"ORD\",\n",
        "        \"miami\": \"MIA\",\n",
        "    }\n",
        "\n",
        "    return city_iata_map.get(city_name.strip().lower(), \"Unknown\")"
      ],
      "metadata": {
        "id": "kqQXunRJa5jb"
      },
      "execution_count": 5,
      "outputs": []
    },
    {
      "cell_type": "markdown",
      "source": [
        "## Define LLM Assistant"
      ],
      "metadata": {
        "id": "IMMhPjSDsXFd"
      }
    },
    {
      "cell_type": "code",
      "source": [
        "from langchain_openai import ChatOpenAI\n",
        "llm = ChatOpenAI(model=\"gpt-3.5-turbo\")\n",
        "plain_llm = ChatOpenAI(model=\"gpt-3.5-turbo\")"
      ],
      "metadata": {
        "id": "3XWHz0o4Ovq6"
      },
      "execution_count": 6,
      "outputs": []
    },
    {
      "cell_type": "code",
      "source": [
        "tools = [get_airfare_details, city_to_iata]\n",
        "llm_with_tools = llm.bind_tools(tools)"
      ],
      "metadata": {
        "id": "TwXgKa--O2s2"
      },
      "execution_count": 7,
      "outputs": []
    },
    {
      "cell_type": "code",
      "source": [
        "from langgraph.graph import MessagesState\n",
        "from langchain_core.messages import SystemMessage\n",
        "\n",
        "# System message\n",
        "sys_msg = SystemMessage(content=\"\"\"\n",
        "You are a knowledgeable and helpful travel planning assistant.\n",
        "Your task is to create a detailed travel itinerary based on the user's chosen destination. You should:\n",
        "\n",
        "Search for and summarize flight options, including airline, departure/arrival time, flight number, layovers, and price.\n",
        "Use tools when appropriate to fetch live airfare information.\n",
        "The tool get_airfare_details is able to give you round trip airfare information with one call.\n",
        "\n",
        "Organize the itinerary clearly, separating outbound and return details.\n",
        "\"\"\")\n",
        "\n",
        "# Node\n",
        "def assistant(state: MessagesState):\n",
        "   # source code: state, keeps track of messages between human, LLM and tools, i.e. the state\n",
        "   # each LLM call will process the entire message history (full state)\n",
        "   return {\"messages\": [llm_with_tools.invoke([sys_msg] + state[\"messages\"])]}"
      ],
      "metadata": {
        "id": "qZ3ReGpnO6LV"
      },
      "execution_count": 8,
      "outputs": []
    },
    {
      "cell_type": "markdown",
      "source": [
        "## Let's Build A Stateful Graph That Represents Our Agentic AI Workflow"
      ],
      "metadata": {
        "id": "FVy9kN7ysbx6"
      }
    },
    {
      "cell_type": "code",
      "source": [
        "from langgraph.graph import START, StateGraph\n",
        "from langgraph.prebuilt import tools_condition, ToolNode\n",
        "\n",
        "from langchain_core.messages import AIMessage, HumanMessage\n",
        "\n",
        "# Graph\n",
        "builder = StateGraph(MessagesState)\n",
        "\n",
        "# Define nodes: these do the work\n",
        "builder.add_node(\"assistant\", assistant)\n",
        "builder.add_node(\"tools\", ToolNode(tools))\n",
        "\n",
        "# Define edges: these determine the control flow\n",
        "builder.add_edge(START, \"assistant\")\n",
        "builder.add_conditional_edges(\n",
        "    \"assistant\",\n",
        "    tools_condition,  # source code, routes the workflow based on LLM's reason\n",
        ")\n",
        "builder.add_edge(\"tools\", \"assistant\")\n",
        "graph = builder.compile()\n",
        "graph"
      ],
      "metadata": {
        "colab": {
          "base_uri": "https://localhost:8080/",
          "height": 266
        },
        "id": "FmOGPqhnPAuM",
        "outputId": "d3e74da3-9999-40b6-ebe7-b319d1d7e676"
      },
      "execution_count": 9,
      "outputs": [
        {
          "output_type": "execute_result",
          "data": {
            "text/plain": [
              "<langgraph.graph.state.CompiledStateGraph object at 0x7adddbef2b10>"
            ],
            "image/png": "[encoded data removed]"
          },
          "metadata": {},
          "execution_count": 9
        }
      ]
    },
    {
      "cell_type": "code",
      "source": [
        "user_prompt = \"\"\"help me to find the best airfare from San Francisco to new york during the July forth holiday,\n",
        "I will be departing around July 1 2025 visiting for five days\"\"\"\n",
        "\n",
        "print(plain_llm.invoke(user_prompt).content)"
      ],
      "metadata": {
        "colab": {
          "base_uri": "https://localhost:8080/"
        },
        "id": "aVv_OSc2Sy8z",
        "outputId": "4583e82c-fcec-46db-d1d1-0a28b11d235c"
      },
      "execution_count": 10,
      "outputs": [
        {
          "output_type": "stream",
          "name": "stdout",
          "text": [
            "To find the best airfare from San Francisco to New York during the July Fourth holiday, consider the following tips:\n",
            "\n",
            "1. Start your search early: Airlines typically release their tickets around 11 months in advance, so the earlier you start looking, the better chance you have of finding a good deal.\n",
            "\n",
            "2. Use flight comparison websites: Utilize websites like Google Flights, Skyscanner, or Kayak to compare prices from different airlines and find the best deals.\n",
            "\n",
            "3. Be flexible with your travel dates: If possible, consider flying a day or two before or after your preferred departure date to see if there are cheaper options available.\n",
            "\n",
            "4. Sign up for fare alerts: Set up price alerts on flight search engines or sign up for newsletters from airlines to receive notifications of any price drops or deals on your desired route.\n",
            "\n",
            "5. Check multiple airports: New York City has multiple airports, including JFK, LaGuardia, and Newark. Make sure to check fares for all three airports to see if one offers significantly cheaper options.\n",
            "\n",
            "By following these tips and being proactive in your search, you should be able to find the best airfare for your trip from San Francisco to New York during the July Fourth holiday.\n"
          ]
        }
      ]
    },
    {
      "cell_type": "code",
      "source": [
        "messages = [HumanMessage(content=user_prompt)]\n",
        "messages = graph.invoke({\"messages\": messages})\n",
        "\n",
        "for m in messages['messages']:\n",
        "    m.pretty_print()"
      ],
      "metadata": {
        "colab": {
          "base_uri": "https://localhost:8080/"
        },
        "id": "zx9QbYZnPN2K",
        "outputId": "68629c15-4673-4829-9e7f-a75c6d1814fd"
      },
      "execution_count": 13,
      "outputs": [
        {
          "output_type": "stream",
          "name": "stdout",
          "text": [
            "================================\u001b[1m Human Message \u001b[0m=================================\n",
            "\n",
            "help me to find the best airfare from San Francisco to new york during the July forth holiday,\n",
            "I will be departing around July 1 2025 visiting for five days\n",
            "==================================\u001b[1m Ai Message \u001b[0m==================================\n",
            "Tool Calls:\n",
            "  city_to_iata (call_PyxkOlCMz3fXAmv1m0VbOfFa)\n",
            " Call ID: call_PyxkOlCMz3fXAmv1m0VbOfFa\n",
            "  Args:\n",
            "    city_name: San Francisco\n",
            "=================================\u001b[1m Tool Message \u001b[0m=================================\n",
            "Name: city_to_iata\n",
            "\n",
            "SFO\n",
            "==================================\u001b[1m Ai Message \u001b[0m==================================\n",
            "Tool Calls:\n",
            "  city_to_iata (call_W2JiEnKrjlEY745q9Sd0DCos)\n",
            " Call ID: call_W2JiEnKrjlEY745q9Sd0DCos\n",
            "  Args:\n",
            "    city_name: New York\n",
            "=================================\u001b[1m Tool Message \u001b[0m=================================\n",
            "Name: city_to_iata\n",
            "\n",
            "JFK\n",
            "==================================\u001b[1m Ai Message \u001b[0m==================================\n",
            "Tool Calls:\n",
            "  get_airfare_details (call_ySlEd2zSOl0fFene1rQnvCqq)\n",
            " Call ID: call_ySlEd2zSOl0fFene1rQnvCqq\n",
            "  Args:\n",
            "    departure_airport: SFO\n",
            "    destination_airport: JFK\n",
            "    departure_date: 2025-07-01\n",
            "    return_date: 2025-07-06\n",
            "=================================\u001b[1m Tool Message \u001b[0m=================================\n",
            "Name: get_airfare_details\n",
            "\n",
            "[{\"flight_number\": \"AA 166\", \"airline\": \"American\", \"departure_time\": \"2025-07-01 13:17\", \"arrival_time\": \"2025-07-01 22:00\", \"departure_airport\": \"SFO\", \"arrival_airport\": \"JFK\", \"price\": 647, \"departure_token\": \"WyJDalJJZFRCdGIxQmtjbk5GT0VGQlMzZERSMEZDUnkwdExTMHRMUzB0TFhaM1ltZHROVUZCUVVGQlIyaFBVWHBCUmtwcWRrZEJFZ1ZCUVRFMk5ob0xDSnI1QXhBQ0dnTlZVMFE0SEhDYStRTT0iLFtbIlNGTyIsIjIwMjUtMDctMDEiLCJKRksiLG51bGwsIkFBIiwiMTY2Il1dXQ==\"}, {\"flight_number\": \"AA 1444\", \"airline\": \"American\", \"departure_time\": \"2025-07-06 07:59\", \"arrival_time\": \"2025-07-06 10:08\", \"departure_airport\": \"JFK\", \"arrival_airport\": \"CLT\", \"price\": 647, \"departure_token\": \"WyJDalJJZFRCdGIxQmtjbk5GT0VGQlMzZERSMEZDUnkwdExTMHRMUzB0TFhaM1ltZHROVUZCUVVGQlIyaFBVWHBCUmtwcWRrZEJFZ1ZCUVRFMk5ob0xDSnI1QXhBQ0dnTlZVMFE0SEhDYStRTT0iLFtbIlNGTyIsIjIwMjUtMDctMDEiLCJKRksiLG51bGwsIkFBIiwiMTY2Il1dXQ==\"}, {\"flight_number\": \"AA 3315\", \"airline\": \"American\", \"departure_time\": \"2025-07-06 12:15\", \"arrival_time\": \"2025-07-06 14:40\", \"departure_airport\": \"CLT\", \"arrival_airport\": \"SFO\", \"price\": 647, \"departure_token\": \"WyJDalJJZFRCdGIxQmtjbk5GT0VGQlMzZERSMEZDUnkwdExTMHRMUzB0TFhaM1ltZHROVUZCUVVGQlIyaFBVWHBCUmtwcWRrZEJFZ1ZCUVRFMk5ob0xDSnI1QXhBQ0dnTlZVMFE0SEhDYStRTT0iLFtbIlNGTyIsIjIwMjUtMDctMDEiLCJKRksiLG51bGwsIkFBIiwiMTY2Il1dXQ==\"}]\n",
            "==================================\u001b[1m Ai Message \u001b[0m==================================\n",
            "\n",
            "### Outbound Flight:\n",
            "- **Airline:** American Airlines\n",
            "- **Flight Number:** AA 166\n",
            "- **Departure:** San Francisco (SFO) at 13:17 on July 1, 2025\n",
            "- **Arrival:** New York (JFK) at 22:00 on July 1, 2025\n",
            "- **Price:** $647\n",
            "\n",
            "### Return Flight:\n",
            "- **Airline:** American Airlines\n",
            "- **Flight Number:** AA 1444\n",
            "- **Departure:** New York (JFK) at 07:59 on July 6, 2025\n",
            "- **Arrival:** Charlotte (CLT) at 10:08 on July 6, 2025\n",
            "- **Price:** $647\n",
            "\n",
            "- **Airline:** American Airlines\n",
            "- **Flight Number:** AA 3315\n",
            "- **Departure:** Charlotte (CLT) at 12:15 on July 6, 2025\n",
            "- **Arrival:** San Francisco (SFO) at 14:40 on July 6, 2025\n",
            "- **Price:** $647\n",
            "\n",
            "Total Round-trip Fare: $647\n",
            "\n",
            "These flights provide a convenient and direct option for your travel from San Francisco to New York during the July 4th holiday.\n"
          ]
        }
      ]
    }
  ]
}
