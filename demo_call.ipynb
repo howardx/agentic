{
  "nbformat": 4,
  "nbformat_minor": 0,
  "metadata": {
    "colab": {
      "provenance": [],
      "authorship_tag": "ABX9TyN0CHd39iMicAARD6N/xsf1",
      "include_colab_link": true
    },
    "kernelspec": {
      "name": "python3",
      "display_name": "Python 3"
    },
    "language_info": {
      "name": "python"
    }
  },
  "cells": [
    {
      "cell_type": "markdown",
      "metadata": {
        "id": "view-in-github",
        "colab_type": "text"
      },
      "source": [
        "<a href=\"https://colab.research.google.com/github/howardx/agentic/blob/main/demo_call.ipynb\" target=\"_parent\"><img src=\"https://colab.research.google.com/assets/colab-badge.svg\" alt=\"Open In Colab\"/></a>"
      ]
    },
    {
      "cell_type": "code",
      "source": [
        "!pip install --quiet -U langgraph langchain_openai langchain_core serpapi google-search-results"
      ],
      "metadata": {
        "id": "_hjopmQF8mba"
      },
      "execution_count": 5,
      "outputs": []
    },
    {
      "cell_type": "code",
      "source": [
        "import os, getpass\n",
        "def _set_env(var: str):\n",
        "    if not os.environ.get(var):\n",
        "        os.environ[var] = getpass.getpass(f\"{var}: \")\n",
        "\n",
        "_set_env(\"OPENAI_API_KEY\")\n",
        "_set_env(\"SERP_API_KEY\")"
      ],
      "metadata": {
        "colab": {
          "base_uri": "https://localhost:8080/"
        },
        "id": "9dY39vgMOjq1",
        "outputId": "0e6c9cf6-9668-4b8d-991e-c706a643ece5"
      },
      "execution_count": 6,
      "outputs": [
        {
          "name": "stdout",
          "output_type": "stream",
          "text": [
            "OPENAI_API_KEY: ··········\n",
            "SERP_API_KEY: ··········\n"
          ]
        }
      ]
    },
    {
      "cell_type": "code",
      "source": [
        "import os\n",
        "from serpapi.google_search import GoogleSearch\n",
        "from typing import List, Dict\n",
        "\n",
        "def get_airfare_details(\n",
        "    departure_airport: str,\n",
        "    destination_airport: str,\n",
        "    departure_date: str,\n",
        "    return_date: str\n",
        ") -> List[Dict]:\n",
        "    \"\"\"\n",
        "    Fetch round-trip airfare details between two airports using SerpAPI's Google Flights engine.\n",
        "\n",
        "    Args:\n",
        "        departure_airport (str): IATA airport code of the departure location (e.g., \"CDG\").\n",
        "        destination_airport (str): IATA airport code of the destination (e.g., \"SFO\").\n",
        "        departure_date (str): Outbound flight date in format YYYY-MM-DD.\n",
        "        return_date (str): Return flight date in format YYYY-MM-DD.\n",
        "\n",
        "    Returns:\n",
        "        List[Dict]: A list of flights (both outbound and return), where each flight dict includes:\n",
        "            - flight_number (str)\n",
        "            - airline (str)\n",
        "            - departure_time (str)\n",
        "            - arrival_time (str)\n",
        "            - departure_airport (str)\n",
        "            - arrival_airport (str)\n",
        "            - price (float)\n",
        "            - departure_token (str)\n",
        "    \"\"\"\n",
        "    def extract_flight_segments(flight_data: Dict, price: float, token: str) -> List[Dict]:\n",
        "        return [\n",
        "            {\n",
        "                \"flight_number\": seg.get(\"flight_number\"),\n",
        "                \"airline\": seg.get(\"airline\"),\n",
        "                \"departure_time\": seg[\"departure_airport\"].get(\"time\"),\n",
        "                \"arrival_time\": seg[\"arrival_airport\"].get(\"time\"),\n",
        "                \"departure_airport\": seg[\"departure_airport\"].get(\"id\"),\n",
        "                \"arrival_airport\": seg[\"arrival_airport\"].get(\"id\"),\n",
        "                \"price\": price,\n",
        "                \"departure_token\": token\n",
        "            }\n",
        "            for seg in flight_data.get(\"flights\", [])\n",
        "        ]\n",
        "\n",
        "    # First search: outbound\n",
        "    params = {\n",
        "        \"engine\": \"google_flights\",\n",
        "        \"hl\": \"en\",\n",
        "        \"gl\": \"us\",\n",
        "        \"departure_id\": departure_airport,\n",
        "        \"arrival_id\": destination_airport,\n",
        "        \"outbound_date\": departure_date,\n",
        "        \"return_date\": return_date,\n",
        "        \"currency\": \"USD\",\n",
        "        \"api_key\": os.environ.get(\"SERP_API_KEY\")\n",
        "    }\n",
        "\n",
        "    search = GoogleSearch(params)\n",
        "    results = search.get_dict()\n",
        "\n",
        "    best_flight = results.get(\"best_flights\", [])[0] if results.get(\"best_flights\") else None\n",
        "    if not best_flight:\n",
        "        return []\n",
        "\n",
        "    outbound_segments = extract_flight_segments(\n",
        "        best_flight,\n",
        "        best_flight.get(\"price\"),\n",
        "        best_flight.get(\"departure_token\")\n",
        "    )\n",
        "\n",
        "    # Second search: return\n",
        "    params[\"departure_token\"] = best_flight.get(\"departure_token\")\n",
        "    return_search = GoogleSearch(params)\n",
        "    return_results = return_search.get_dict()\n",
        "\n",
        "    return_flight = return_results.get(\"other_flights\", [])[0] if return_results.get(\"other_flights\") else None\n",
        "    if not return_flight:\n",
        "        print(return_results)\n",
        "        return outbound_segments\n",
        "\n",
        "    return_segments = extract_flight_segments(\n",
        "        return_flight,\n",
        "        best_flight.get(\"price\"),\n",
        "        best_flight.get(\"departure_token\")\n",
        "    )\n",
        "\n",
        "    return outbound_segments + return_segments"
      ],
      "metadata": {
        "id": "3Xx-t4pBOyi4"
      },
      "execution_count": 7,
      "outputs": []
    },
    {
      "cell_type": "code",
      "source": [
        "get_airfare_details(\"DFW\", \"SFO\", \"2025-07-01\", \"2025-07-07\")"
      ],
      "metadata": {
        "colab": {
          "base_uri": "https://localhost:8080/"
        },
        "id": "2pAe4bHd8HTq",
        "outputId": "be6cf164-9c1e-47b7-fe3b-d3c684ad27d7"
      },
      "execution_count": 8,
      "outputs": [
        {
          "output_type": "execute_result",
          "data": {
            "text/plain": [
              "[{'flight_number': 'UA 790',\n",
              "  'airline': 'United',\n",
              "  'departure_time': '2025-07-01 06:00',\n",
              "  'arrival_time': '2025-07-01 07:46',\n",
              "  'departure_airport': 'DFW',\n",
              "  'arrival_airport': 'SFO',\n",
              "  'price': 262,\n",
              "  'departure_token': 'WyJDalJJVUZnek9YRm5RVFJuU2tWQlNXVk5kWGRDUnkwdExTMHRMUzB0TFhaM1ltZHpORUZCUVVGQlIyaE9abVl3VGs1MFNEQkJFZ1ZWUVRjNU1Cb0xDTlRNQVJBQ0dnTlZVMFE0SEhEVXpBRT0iLFtbIkRGVyIsIjIwMjUtMDctMDEiLCJTRk8iLG51bGwsIlVBIiwiNzkwIl1dXQ=='},\n",
              " {'flight_number': 'UA 1944',\n",
              "  'airline': 'United',\n",
              "  'departure_time': '2025-07-07 23:05',\n",
              "  'arrival_time': '2025-07-08 04:49',\n",
              "  'departure_airport': 'SFO',\n",
              "  'arrival_airport': 'DFW',\n",
              "  'price': 262,\n",
              "  'departure_token': 'WyJDalJJVUZnek9YRm5RVFJuU2tWQlNXVk5kWGRDUnkwdExTMHRMUzB0TFhaM1ltZHpORUZCUVVGQlIyaE9abVl3VGs1MFNEQkJFZ1ZWUVRjNU1Cb0xDTlRNQVJBQ0dnTlZVMFE0SEhEVXpBRT0iLFtbIkRGVyIsIjIwMjUtMDctMDEiLCJTRk8iLG51bGwsIlVBIiwiNzkwIl1dXQ=='}]"
            ]
          },
          "metadata": {},
          "execution_count": 8
        }
      ]
    },
    {
      "cell_type": "code",
      "source": [
        "def city_to_iata(city_name: str) -> str:\n",
        "    \"\"\"\n",
        "    Converts a popular city name to its nearest major airport's IATA (International Air Transport Association) code.\n",
        "\n",
        "    Args:\n",
        "        city_name (str): Common name of a city (e.g., \"New York\", \"Paris\").\n",
        "\n",
        "    Returns:\n",
        "        str: The IATA airport code (e.g., \"JFK\", \"CDG\") or \"Unknown\" if not found.\n",
        "    \"\"\"\n",
        "    city_iata_map = {\n",
        "        \"new york\": \"JFK\",\n",
        "        \"los angeles\": \"LAX\",\n",
        "        \"san francisco\": \"SFO\",\n",
        "        \"chicago\": \"ORD\",\n",
        "        \"miami\": \"MIA\",\n",
        "    }\n",
        "\n",
        "    return city_iata_map.get(city_name.strip().lower(), \"Unknown\")"
      ],
      "metadata": {
        "id": "kqQXunRJa5jb"
      },
      "execution_count": 9,
      "outputs": []
    },
    {
      "cell_type": "code",
      "source": [
        "from langchain_openai import ChatOpenAI\n",
        "llm = ChatOpenAI(model=\"gpt-3.5-turbo\")\n",
        "plain_llm = ChatOpenAI(model=\"gpt-3.5-turbo\")"
      ],
      "metadata": {
        "id": "3XWHz0o4Ovq6"
      },
      "execution_count": 10,
      "outputs": []
    },
    {
      "cell_type": "code",
      "source": [
        "tools = [get_airfare_details, city_to_iata]\n",
        "llm_with_tools = llm.bind_tools(tools)  # source code: puts tools into a dictionary of the LLM client"
      ],
      "metadata": {
        "id": "TwXgKa--O2s2"
      },
      "execution_count": 12,
      "outputs": []
    },
    {
      "cell_type": "code",
      "source": [
        "from langgraph.graph import MessagesState\n",
        "from langchain_core.messages import SystemMessage\n",
        "\n",
        "# System message\n",
        "sys_msg = SystemMessage(content=\"\"\"\n",
        "You are a knowledgeable and helpful travel planning assistant.\n",
        "Your task is to create a detailed travel itinerary based on the user's chosen destination. You should:\n",
        "\n",
        "Search for and summarize flight options, including airline, departure/arrival time, flight number, layovers, and price.\n",
        "Use tools when appropriate to fetch live airfare information.\n",
        "The tool get_airfare_details is able to give you round trip airfare information with one call.\n",
        "\n",
        "Organize the itinerary clearly, separating outbound and return details.\n",
        "\"\"\")\n",
        "\n",
        "# Node\n",
        "def assistant(state: MessagesState): # source code: state, keeps track of the conversation between human, LLM and tools\n",
        "   return {\"messages\": [llm_with_tools.invoke([sys_msg] + state[\"messages\"])]}"
      ],
      "metadata": {
        "id": "qZ3ReGpnO6LV"
      },
      "execution_count": 13,
      "outputs": []
    },
    {
      "cell_type": "code",
      "source": [
        "from langgraph.graph import START, StateGraph\n",
        "from langgraph.prebuilt import tools_condition, ToolNode\n",
        "\n",
        "from langchain_core.messages import AIMessage, HumanMessage\n",
        "\n",
        "# Graph\n",
        "builder = StateGraph(MessagesState)\n",
        "\n",
        "# Define nodes: these do the work\n",
        "builder.add_node(\"assistant\", assistant)\n",
        "builder.add_node(\"tools\", ToolNode(tools))\n",
        "\n",
        "# Define edges: these determine the control flow\n",
        "builder.add_edge(START, \"assistant\")\n",
        "builder.add_conditional_edges(\n",
        "    \"assistant\",\n",
        "    tools_condition,  # source code, routes the workflow based on LLM's reason\n",
        ")\n",
        "builder.add_edge(\"tools\", \"assistant\")\n",
        "graph = builder.compile()\n",
        "graph"
      ],
      "metadata": {
        "colab": {
          "base_uri": "https://localhost:8080/",
          "height": 266
        },
        "id": "FmOGPqhnPAuM",
        "outputId": "89fa2081-193f-4ee0-8029-df7ab54eaa36"
      },
      "execution_count": 14,
      "outputs": [
        {
          "output_type": "execute_result",
          "data": {
            "text/plain": [
              "<langgraph.graph.state.CompiledStateGraph object at 0x7c7486493e10>"
            ],
            "image/png": "[encoded data removed]"
          },
          "metadata": {},
          "execution_count": 14
        }
      ]
    },
    {
      "cell_type": "code",
      "source": [
        "user_prompt = \"\"\"help me to find the best airfare from San Francisco to new york during the July forth holiday,\n",
        "I will be departing around July 1 2025 visiting for five days\"\"\"\n",
        "\n",
        "print(plain_llm.invoke(user_prompt).content)"
      ],
      "metadata": {
        "colab": {
          "base_uri": "https://localhost:8080/"
        },
        "id": "aVv_OSc2Sy8z",
        "outputId": "578e2f63-5dec-4079-8634-f5c2486536aa"
      },
      "execution_count": 15,
      "outputs": [
        {
          "output_type": "stream",
          "name": "stdout",
          "text": [
            "To find the best airfare for your trip from San Francisco to New York during the July 4th holiday, you can follow these steps:\n",
            "\n",
            "1. Use a flight comparison website or app such as Google Flights, Skyscanner, or Kayak to search for flights from San Francisco to New York around July 1, 2025.\n",
            "\n",
            "2. Enter your travel dates (July 1, 2025) and select the option for a round trip if you will be returning after five days.\n",
            "\n",
            "3. Compare the prices and options from different airlines and try to be flexible with your travel dates and times to potentially find a cheaper fare.\n",
            "\n",
            "4. Consider booking your flight in advance as prices tend to increase closer to the travel date, especially during busy holiday periods like July 4th.\n",
            "\n",
            "5. Keep an eye out for any discounts, promotions, or special deals that airlines may be offering for the holiday period.\n",
            "\n",
            "6. Once you have found a flight that fits your budget and schedule, book it as soon as possible to secure the best price.\n",
            "\n",
            "By following these tips and using flight comparison tools, you should be able to find the best airfare for your trip from San Francisco to New York during the July 4th holiday.\n"
          ]
        }
      ]
    },
    {
      "cell_type": "code",
      "source": [
        "messages = [HumanMessage(content=user_prompt)]\n",
        "messages = graph.invoke({\"messages\": messages})\n",
        "\n",
        "for m in messages['messages']:\n",
        "    m.pretty_print()"
      ],
      "metadata": {
        "colab": {
          "base_uri": "https://localhost:8080/"
        },
        "id": "zx9QbYZnPN2K",
        "outputId": "d7b0f651-fc22-4e4f-9bf8-f183f1dabe2f"
      },
      "execution_count": 16,
      "outputs": [
        {
          "output_type": "stream",
          "name": "stdout",
          "text": [
            "================================\u001b[1m Human Message \u001b[0m=================================\n",
            "\n",
            "help me to find the best airfare from San Francisco to new york during the July forth holiday,\n",
            "I will be departing around July 1 2025 visiting for five days\n",
            "==================================\u001b[1m Ai Message \u001b[0m==================================\n",
            "Tool Calls:\n",
            "  city_to_iata (call_RSSS4deLxNbzkkspK1pmOLbx)\n",
            " Call ID: call_RSSS4deLxNbzkkspK1pmOLbx\n",
            "  Args:\n",
            "    city_name: San Francisco\n",
            "=================================\u001b[1m Tool Message \u001b[0m=================================\n",
            "Name: city_to_iata\n",
            "\n",
            "SFO\n",
            "==================================\u001b[1m Ai Message \u001b[0m==================================\n",
            "Tool Calls:\n",
            "  city_to_iata (call_Zbfwwo9H6zYs9QEjrzkWcJ2h)\n",
            " Call ID: call_Zbfwwo9H6zYs9QEjrzkWcJ2h\n",
            "  Args:\n",
            "    city_name: New York\n",
            "=================================\u001b[1m Tool Message \u001b[0m=================================\n",
            "Name: city_to_iata\n",
            "\n",
            "JFK\n",
            "==================================\u001b[1m Ai Message \u001b[0m==================================\n",
            "Tool Calls:\n",
            "  get_airfare_details (call_Yjx0CBjnaFMCSG31X214ZJ6m)\n",
            " Call ID: call_Yjx0CBjnaFMCSG31X214ZJ6m\n",
            "  Args:\n",
            "    departure_airport: SFO\n",
            "    destination_airport: JFK\n",
            "    departure_date: 2025-07-01\n",
            "    return_date: 2025-07-06\n",
            "  get_airfare_details (call_t4qMK0mW3MpvwXi930KSIOnx)\n",
            " Call ID: call_t4qMK0mW3MpvwXi930KSIOnx\n",
            "  Args:\n",
            "    departure_airport: JFK\n",
            "    destination_airport: SFO\n",
            "    departure_date: 2025-07-01\n",
            "    return_date: 2025-07-06\n",
            "=================================\u001b[1m Tool Message \u001b[0m=================================\n",
            "Name: get_airfare_details\n",
            "\n",
            "[{\"flight_number\": \"DL 405\", \"airline\": \"Delta\", \"departure_time\": \"2025-07-01 07:00\", \"arrival_time\": \"2025-07-01 16:00\", \"departure_airport\": \"SFO\", \"arrival_airport\": \"JFK\", \"price\": 642, \"departure_token\": \"WyJDalJJTUZGNlozUmxVMUYxZG1OQlJXTkZhR2RDUnkwdExTMHRMUzB0TFhCcVltSm5PVUZCUVVGQlIyaE9abXB6UzBKUVdHbEJFZ1ZFVERRd05Sb0xDTVQxQXhBQ0dnTlZVMFE0SEhERTlRTT0iLFtbIlNGTyIsIjIwMjUtMDctMDEiLCJKRksiLG51bGwsIkRMIiwiNDA1Il1dXQ==\"}, {\"flight_number\": \"DL 1732\", \"airline\": \"Delta\", \"departure_time\": \"2025-07-06 21:55\", \"arrival_time\": \"2025-07-07 01:45\", \"departure_airport\": \"JFK\", \"arrival_airport\": \"SFO\", \"price\": 642, \"departure_token\": \"WyJDalJJTUZGNlozUmxVMUYxZG1OQlJXTkZhR2RDUnkwdExTMHRMUzB0TFhCcVltSm5PVUZCUVVGQlIyaE9abXB6UzBKUVdHbEJFZ1ZFVERRd05Sb0xDTVQxQXhBQ0dnTlZVMFE0SEhERTlRTT0iLFtbIlNGTyIsIjIwMjUtMDctMDEiLCJKRksiLG51bGwsIkRMIiwiNDA1Il1dXQ==\"}]\n",
            "=================================\u001b[1m Tool Message \u001b[0m=================================\n",
            "Name: get_airfare_details\n",
            "\n",
            "[{\"flight_number\": \"B6 115\", \"airline\": \"JetBlue\", \"departure_time\": \"2025-07-01 06:10\", \"arrival_time\": \"2025-07-01 09:34\", \"departure_airport\": \"JFK\", \"arrival_airport\": \"SFO\", \"price\": 418, \"departure_token\": \"WyJDalJJWDFOQldYQk5jelE1TVRCQlJqaFNTbWRDUnkwdExTMHRMUzB0TFMxNWJHOXpPRUZCUVVGQlIyaE9abXB6UmpRNGEzRkJFZ1ZDTmpFeE5Sb0xDTWpHQWhBQ0dnTlZVMFE0SEhESXhnST0iLFtbIkpGSyIsIjIwMjUtMDctMDEiLCJTRk8iLG51bGwsIkI2IiwiMTE1Il1dXQ==\"}, {\"flight_number\": \"B6 116\", \"airline\": \"JetBlue\", \"departure_time\": \"2025-07-06 06:00\", \"arrival_time\": \"2025-07-06 14:40\", \"departure_airport\": \"SFO\", \"arrival_airport\": \"JFK\", \"price\": 418, \"departure_token\": \"WyJDalJJWDFOQldYQk5jelE1TVRCQlJqaFNTbWRDUnkwdExTMHRMUzB0TFMxNWJHOXpPRUZCUVVGQlIyaE9abXB6UmpRNGEzRkJFZ1ZDTmpFeE5Sb0xDTWpHQWhBQ0dnTlZVMFE0SEhESXhnST0iLFtbIkpGSyIsIjIwMjUtMDctMDEiLCJTRk8iLG51bGwsIkI2IiwiMTE1Il1dXQ==\"}]\n",
            "==================================\u001b[1m Ai Message \u001b[0m==================================\n",
            "\n",
            "### Outbound Flight:\n",
            "- **Airline:** Delta\n",
            "- **Flight Number:** DL 405\n",
            "- **Departure:** San Francisco (SFO) at 07:00 on July 1, 2025\n",
            "- **Arrival:** New York (JFK) at 16:00 on July 1, 2025\n",
            "- **Price:** $642\n",
            "\n",
            "### Return Flight:\n",
            "- **Airline:** Delta\n",
            "- **Flight Number:** DL 1732\n",
            "- **Departure:** New York (JFK) at 21:55 on July 6, 2025\n",
            "- **Arrival:** San Francisco (SFO) at 01:45 on July 7, 2025\n",
            "- **Price:** $642\n",
            "\n",
            "### Outbound Flight:\n",
            "- **Airline:** JetBlue\n",
            "- **Flight Number:** B6 115\n",
            "- **Departure:** New York (JFK) at 06:10 on July 1, 2025\n",
            "- **Arrival:** San Francisco (SFO) at 09:34 on July 1, 2025\n",
            "- **Price:** $418\n",
            "\n",
            "### Return Flight:\n",
            "- **Airline:** JetBlue\n",
            "- **Flight Number:** B6 116\n",
            "- **Departure:** San Francisco (SFO) at 06:00 on July 6, 2025\n",
            "- **Arrival:** New York (JFK) at 14:40 on July 6, 2025\n",
            "- **Price:** $418\n",
            "\n",
            "These are the best flight options for your trip from San Francisco to New York during the July 4th holiday.\n"
          ]
        }
      ]
    }
  ]
}